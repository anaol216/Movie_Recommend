{
 "cells": [
  {
   "cell_type": "code",
   "execution_count": 6,
   "id": "cd30a624-dd6b-4623-99db-9e241af4bfca",
   "metadata": {
    "vscode": {
     "languageId": "python"
    }
   },
   "outputs": [],
   "source": [
    "import pandas as pd\n",
    "from sklearn.feature_extraction.text import CountVectorizer\n",
    "from sklearn.metrics.pairwise import cosine_similarity\n",
    "import pickle\n"
   ]
  },
  {
   "cell_type": "code",
   "execution_count": 3,
   "id": "5e9b72ae-bd16-45b5-b9e6-2db96603d91d",
   "metadata": {
    "vscode": {
     "languageId": "python"
    }
   },
   "outputs": [
    {
     "data": {
      "text/html": [
       "<div>\n",
       "<style scoped>\n",
       "    .dataframe tbody tr th:only-of-type {\n",
       "        vertical-align: middle;\n",
       "    }\n",
       "\n",
       "    .dataframe tbody tr th {\n",
       "        vertical-align: top;\n",
       "    }\n",
       "\n",
       "    .dataframe thead th {\n",
       "        text-align: right;\n",
       "    }\n",
       "</style>\n",
       "<table border=\"1\" class=\"dataframe\">\n",
       "  <thead>\n",
       "    <tr style=\"text-align: right;\">\n",
       "      <th></th>\n",
       "      <th>video_id</th>\n",
       "      <th>author_id</th>\n",
       "      <th>video_type</th>\n",
       "      <th>upload_dt</th>\n",
       "      <th>upload_type</th>\n",
       "      <th>visible_status</th>\n",
       "      <th>video_duration</th>\n",
       "      <th>server_width</th>\n",
       "      <th>server_height</th>\n",
       "      <th>music_id</th>\n",
       "      <th>music_type</th>\n",
       "      <th>tag</th>\n",
       "    </tr>\n",
       "  </thead>\n",
       "  <tbody>\n",
       "    <tr>\n",
       "      <th>0</th>\n",
       "      <td>0</td>\n",
       "      <td>7349781</td>\n",
       "      <td>NORMAL</td>\n",
       "      <td>2022-04-10</td>\n",
       "      <td>LongImport</td>\n",
       "      <td>0.0</td>\n",
       "      <td>87433.0</td>\n",
       "      <td>720.0</td>\n",
       "      <td>1280.0</td>\n",
       "      <td>9155697141</td>\n",
       "      <td>9.0</td>\n",
       "      <td>39</td>\n",
       "    </tr>\n",
       "    <tr>\n",
       "      <th>1</th>\n",
       "      <td>1</td>\n",
       "      <td>2103883</td>\n",
       "      <td>NORMAL</td>\n",
       "      <td>2022-04-10</td>\n",
       "      <td>Kmovie</td>\n",
       "      <td>0.0</td>\n",
       "      <td>218066.0</td>\n",
       "      <td>720.0</td>\n",
       "      <td>1280.0</td>\n",
       "      <td>6355810746</td>\n",
       "      <td>9.0</td>\n",
       "      <td>2</td>\n",
       "    </tr>\n",
       "    <tr>\n",
       "      <th>2</th>\n",
       "      <td>2</td>\n",
       "      <td>5067285</td>\n",
       "      <td>NORMAL</td>\n",
       "      <td>2022-04-09</td>\n",
       "      <td>ShortImport</td>\n",
       "      <td>0.0</td>\n",
       "      <td>9233.0</td>\n",
       "      <td>720.0</td>\n",
       "      <td>1280.0</td>\n",
       "      <td>6618412736</td>\n",
       "      <td>4.0</td>\n",
       "      <td>1</td>\n",
       "    </tr>\n",
       "    <tr>\n",
       "      <th>3</th>\n",
       "      <td>3</td>\n",
       "      <td>7048760</td>\n",
       "      <td>NORMAL</td>\n",
       "      <td>2022-04-11</td>\n",
       "      <td>Web</td>\n",
       "      <td>0.0</td>\n",
       "      <td>16433.0</td>\n",
       "      <td>720.0</td>\n",
       "      <td>1280.0</td>\n",
       "      <td>9161677205</td>\n",
       "      <td>9.0</td>\n",
       "      <td>7</td>\n",
       "    </tr>\n",
       "    <tr>\n",
       "      <th>4</th>\n",
       "      <td>4</td>\n",
       "      <td>8635271</td>\n",
       "      <td>NORMAL</td>\n",
       "      <td>2022-04-09</td>\n",
       "      <td>Web</td>\n",
       "      <td>0.0</td>\n",
       "      <td>38766.0</td>\n",
       "      <td>720.0</td>\n",
       "      <td>1280.0</td>\n",
       "      <td>9141092381</td>\n",
       "      <td>9.0</td>\n",
       "      <td>9</td>\n",
       "    </tr>\n",
       "  </tbody>\n",
       "</table>\n",
       "</div>"
      ],
      "text/plain": [
       "   video_id  author_id video_type   upload_dt  upload_type  visible_status  \\\n",
       "0         0    7349781     NORMAL  2022-04-10   LongImport             0.0   \n",
       "1         1    2103883     NORMAL  2022-04-10       Kmovie             0.0   \n",
       "2         2    5067285     NORMAL  2022-04-09  ShortImport             0.0   \n",
       "3         3    7048760     NORMAL  2022-04-11          Web             0.0   \n",
       "4         4    8635271     NORMAL  2022-04-09          Web             0.0   \n",
       "\n",
       "   video_duration  server_width  server_height    music_id  music_type tag  \n",
       "0         87433.0         720.0         1280.0  9155697141         9.0  39  \n",
       "1        218066.0         720.0         1280.0  6355810746         9.0   2  \n",
       "2          9233.0         720.0         1280.0  6618412736         4.0   1  \n",
       "3         16433.0         720.0         1280.0  9161677205         9.0   7  \n",
       "4         38766.0         720.0         1280.0  9141092381         9.0   9  "
      ]
     },
     "execution_count": 6,
     "metadata": {},
     "output_type": "execute_result"
    }
   ],
   "source": [
    "movies = pd.read_csv(\"archive (2)/KuaiRand-Pure/KuaiRand-Pure/data/video_features_basic_pure.csv\")\n",
    "movies.head()\n"
   ]
  },
  {
   "cell_type": "code",
   "execution_count": null,
   "id": "446ddc36-87b3-46bf-b893-0090b335653e",
   "metadata": {
    "vscode": {
     "languageId": "python"
    }
   },
   "outputs": [
    {
     "name": "stdout",
     "output_type": "stream",
     "text": [
      "<class 'pandas.core.frame.DataFrame'>\n",
      "RangeIndex: 7583 entries, 0 to 7582\n",
      "Data columns (total 12 columns):\n",
      " #   Column          Non-Null Count  Dtype  \n",
      "---  ------          --------------  -----  \n",
      " 0   video_id        7583 non-null   int64  \n",
      " 1   author_id       7583 non-null   int64  \n",
      " 2   video_type      7583 non-null   object \n",
      " 3   upload_dt       7583 non-null   object \n",
      " 4   upload_type     7583 non-null   object \n",
      " 5   visible_status  7583 non-null   float64\n",
      " 6   video_duration  7344 non-null   float64\n",
      " 7   server_width    7583 non-null   float64\n",
      " 8   server_height   7583 non-null   float64\n",
      " 9   music_id        7583 non-null   int64  \n",
      " 10  music_type      7380 non-null   float64\n",
      " 11  tag             7487 non-null   object \n",
      "dtypes: float64(5), int64(3), object(4)\n",
      "memory usage: 711.0+ KB\n"
     ]
    },
    {
     "data": {
      "text/html": [
       "<div>\n",
       "<style scoped>\n",
       "    .dataframe tbody tr th:only-of-type {\n",
       "        vertical-align: middle;\n",
       "    }\n",
       "\n",
       "    .dataframe tbody tr th {\n",
       "        vertical-align: top;\n",
       "    }\n",
       "\n",
       "    .dataframe thead th {\n",
       "        text-align: right;\n",
       "    }\n",
       "</style>\n",
       "<table border=\"1\" class=\"dataframe\">\n",
       "  <thead>\n",
       "    <tr style=\"text-align: right;\">\n",
       "      <th></th>\n",
       "      <th>video_id</th>\n",
       "      <th>author_id</th>\n",
       "      <th>video_type</th>\n",
       "      <th>upload_dt</th>\n",
       "      <th>upload_type</th>\n",
       "      <th>visible_status</th>\n",
       "      <th>video_duration</th>\n",
       "      <th>server_width</th>\n",
       "      <th>server_height</th>\n",
       "      <th>music_id</th>\n",
       "      <th>music_type</th>\n",
       "      <th>tag</th>\n",
       "    </tr>\n",
       "  </thead>\n",
       "  <tbody>\n",
       "    <tr>\n",
       "      <th>count</th>\n",
       "      <td>7583.000000</td>\n",
       "      <td>7.583000e+03</td>\n",
       "      <td>7583</td>\n",
       "      <td>7583</td>\n",
       "      <td>7583</td>\n",
       "      <td>7583.0</td>\n",
       "      <td>7.344000e+03</td>\n",
       "      <td>7583.000000</td>\n",
       "      <td>7583.000000</td>\n",
       "      <td>7.583000e+03</td>\n",
       "      <td>7380.000000</td>\n",
       "      <td>7487</td>\n",
       "    </tr>\n",
       "    <tr>\n",
       "      <th>unique</th>\n",
       "      <td>NaN</td>\n",
       "      <td>NaN</td>\n",
       "      <td>3</td>\n",
       "      <td>3</td>\n",
       "      <td>14</td>\n",
       "      <td>NaN</td>\n",
       "      <td>NaN</td>\n",
       "      <td>NaN</td>\n",
       "      <td>NaN</td>\n",
       "      <td>NaN</td>\n",
       "      <td>NaN</td>\n",
       "      <td>110</td>\n",
       "    </tr>\n",
       "    <tr>\n",
       "      <th>top</th>\n",
       "      <td>NaN</td>\n",
       "      <td>NaN</td>\n",
       "      <td>NORMAL</td>\n",
       "      <td>2022-04-10</td>\n",
       "      <td>LongImport</td>\n",
       "      <td>NaN</td>\n",
       "      <td>NaN</td>\n",
       "      <td>NaN</td>\n",
       "      <td>NaN</td>\n",
       "      <td>NaN</td>\n",
       "      <td>NaN</td>\n",
       "      <td>39</td>\n",
       "    </tr>\n",
       "    <tr>\n",
       "      <th>freq</th>\n",
       "      <td>NaN</td>\n",
       "      <td>NaN</td>\n",
       "      <td>7506</td>\n",
       "      <td>3424</td>\n",
       "      <td>2925</td>\n",
       "      <td>NaN</td>\n",
       "      <td>NaN</td>\n",
       "      <td>NaN</td>\n",
       "      <td>NaN</td>\n",
       "      <td>NaN</td>\n",
       "      <td>NaN</td>\n",
       "      <td>815</td>\n",
       "    </tr>\n",
       "    <tr>\n",
       "      <th>mean</th>\n",
       "      <td>3791.000000</td>\n",
       "      <td>5.137301e+06</td>\n",
       "      <td>NaN</td>\n",
       "      <td>NaN</td>\n",
       "      <td>NaN</td>\n",
       "      <td>0.0</td>\n",
       "      <td>1.086159e+05</td>\n",
       "      <td>850.029804</td>\n",
       "      <td>1140.159304</td>\n",
       "      <td>8.510535e+09</td>\n",
       "      <td>8.546341</td>\n",
       "      <td>NaN</td>\n",
       "    </tr>\n",
       "    <tr>\n",
       "      <th>std</th>\n",
       "      <td>2189.167878</td>\n",
       "      <td>2.715180e+06</td>\n",
       "      <td>NaN</td>\n",
       "      <td>NaN</td>\n",
       "      <td>NaN</td>\n",
       "      <td>0.0</td>\n",
       "      <td>1.054980e+05</td>\n",
       "      <td>232.489241</td>\n",
       "      <td>250.230933</td>\n",
       "      <td>1.923075e+09</td>\n",
       "      <td>1.426481</td>\n",
       "      <td>NaN</td>\n",
       "    </tr>\n",
       "    <tr>\n",
       "      <th>min</th>\n",
       "      <td>0.000000</td>\n",
       "      <td>0.000000e+00</td>\n",
       "      <td>NaN</td>\n",
       "      <td>NaN</td>\n",
       "      <td>NaN</td>\n",
       "      <td>0.0</td>\n",
       "      <td>5.000000e+03</td>\n",
       "      <td>270.000000</td>\n",
       "      <td>448.000000</td>\n",
       "      <td>0.000000e+00</td>\n",
       "      <td>4.000000</td>\n",
       "      <td>NaN</td>\n",
       "    </tr>\n",
       "    <tr>\n",
       "      <th>25%</th>\n",
       "      <td>1895.500000</td>\n",
       "      <td>2.864076e+06</td>\n",
       "      <td>NaN</td>\n",
       "      <td>NaN</td>\n",
       "      <td>NaN</td>\n",
       "      <td>0.0</td>\n",
       "      <td>3.194950e+04</td>\n",
       "      <td>720.000000</td>\n",
       "      <td>960.000000</td>\n",
       "      <td>9.141054e+09</td>\n",
       "      <td>9.000000</td>\n",
       "      <td>NaN</td>\n",
       "    </tr>\n",
       "    <tr>\n",
       "      <th>50%</th>\n",
       "      <td>3791.000000</td>\n",
       "      <td>5.922068e+06</td>\n",
       "      <td>NaN</td>\n",
       "      <td>NaN</td>\n",
       "      <td>NaN</td>\n",
       "      <td>0.0</td>\n",
       "      <td>8.117050e+04</td>\n",
       "      <td>720.000000</td>\n",
       "      <td>1280.000000</td>\n",
       "      <td>9.148886e+09</td>\n",
       "      <td>9.000000</td>\n",
       "      <td>NaN</td>\n",
       "    </tr>\n",
       "    <tr>\n",
       "      <th>75%</th>\n",
       "      <td>5686.500000</td>\n",
       "      <td>7.478544e+06</td>\n",
       "      <td>NaN</td>\n",
       "      <td>NaN</td>\n",
       "      <td>NaN</td>\n",
       "      <td>0.0</td>\n",
       "      <td>1.482285e+05</td>\n",
       "      <td>960.000000</td>\n",
       "      <td>1280.000000</td>\n",
       "      <td>9.156605e+09</td>\n",
       "      <td>9.000000</td>\n",
       "      <td>NaN</td>\n",
       "    </tr>\n",
       "    <tr>\n",
       "      <th>max</th>\n",
       "      <td>7582.000000</td>\n",
       "      <td>8.733983e+06</td>\n",
       "      <td>NaN</td>\n",
       "      <td>NaN</td>\n",
       "      <td>NaN</td>\n",
       "      <td>0.0</td>\n",
       "      <td>1.177720e+06</td>\n",
       "      <td>2400.000000</td>\n",
       "      <td>2400.000000</td>\n",
       "      <td>9.170219e+09</td>\n",
       "      <td>11.000000</td>\n",
       "      <td>NaN</td>\n",
       "    </tr>\n",
       "  </tbody>\n",
       "</table>\n",
       "</div>"
      ],
      "text/plain": [
       "           video_id     author_id video_type   upload_dt upload_type  \\\n",
       "count   7583.000000  7.583000e+03       7583        7583        7583   \n",
       "unique          NaN           NaN          3           3          14   \n",
       "top             NaN           NaN     NORMAL  2022-04-10  LongImport   \n",
       "freq            NaN           NaN       7506        3424        2925   \n",
       "mean    3791.000000  5.137301e+06        NaN         NaN         NaN   \n",
       "std     2189.167878  2.715180e+06        NaN         NaN         NaN   \n",
       "min        0.000000  0.000000e+00        NaN         NaN         NaN   \n",
       "25%     1895.500000  2.864076e+06        NaN         NaN         NaN   \n",
       "50%     3791.000000  5.922068e+06        NaN         NaN         NaN   \n",
       "75%     5686.500000  7.478544e+06        NaN         NaN         NaN   \n",
       "max     7582.000000  8.733983e+06        NaN         NaN         NaN   \n",
       "\n",
       "        visible_status  video_duration  server_width  server_height  \\\n",
       "count           7583.0    7.344000e+03   7583.000000    7583.000000   \n",
       "unique             NaN             NaN           NaN            NaN   \n",
       "top                NaN             NaN           NaN            NaN   \n",
       "freq               NaN             NaN           NaN            NaN   \n",
       "mean               0.0    1.086159e+05    850.029804    1140.159304   \n",
       "std                0.0    1.054980e+05    232.489241     250.230933   \n",
       "min                0.0    5.000000e+03    270.000000     448.000000   \n",
       "25%                0.0    3.194950e+04    720.000000     960.000000   \n",
       "50%                0.0    8.117050e+04    720.000000    1280.000000   \n",
       "75%                0.0    1.482285e+05    960.000000    1280.000000   \n",
       "max                0.0    1.177720e+06   2400.000000    2400.000000   \n",
       "\n",
       "            music_id   music_type   tag  \n",
       "count   7.583000e+03  7380.000000  7487  \n",
       "unique           NaN          NaN   110  \n",
       "top              NaN          NaN    39  \n",
       "freq             NaN          NaN   815  \n",
       "mean    8.510535e+09     8.546341   NaN  \n",
       "std     1.923075e+09     1.426481   NaN  \n",
       "min     0.000000e+00     4.000000   NaN  \n",
       "25%     9.141054e+09     9.000000   NaN  \n",
       "50%     9.148886e+09     9.000000   NaN  \n",
       "75%     9.156605e+09     9.000000   NaN  \n",
       "max     9.170219e+09    11.000000   NaN  "
      ]
     },
     "execution_count": 10,
     "metadata": {},
     "output_type": "execute_result"
    }
   ],
   "source": [
    "# Get info about the dataset\n",
    "movies.info()\n",
    "# Get descriptive statistics\n",
    "movies.describe(include='all')\n"
   ]
  },
  {
   "cell_type": "code",
   "execution_count": null,
   "id": "0f8f8f44",
   "metadata": {
    "vscode": {
     "languageId": "python"
    }
   },
   "outputs": [
    {
     "data": {
      "text/plain": [
       "video_id            0\n",
       "author_id           0\n",
       "video_type          0\n",
       "upload_dt           0\n",
       "upload_type         0\n",
       "visible_status      0\n",
       "video_duration    239\n",
       "server_width        0\n",
       "server_height       0\n",
       "music_id            0\n",
       "music_type        203\n",
       "tag                96\n",
       "dtype: int64"
      ]
     },
     "execution_count": 11,
     "metadata": {},
     "output_type": "execute_result"
    }
   ],
   "source": [
    "# Check for missing values\n",
    "movies.isnull().sum()\n"
   ]
  },
  {
   "cell_type": "code",
   "execution_count": null,
   "id": "3afe30e8",
   "metadata": {
    "vscode": {
     "languageId": "python"
    }
   },
   "outputs": [
    {
     "data": {
      "text/plain": [
       "Index(['video_id', 'author_id', 'video_type', 'upload_dt', 'upload_type',\n",
       "       'visible_status', 'video_duration', 'server_width', 'server_height',\n",
       "       'music_id', 'music_type', 'tag'],\n",
       "      dtype='object')"
      ]
     },
     "execution_count": 12,
     "metadata": {},
     "output_type": "execute_result"
    }
   ],
   "source": [
    "# Check columns\n",
    "movies.columns\n"
   ]
  },
  {
   "cell_type": "code",
   "execution_count": null,
   "id": "b98fd065",
   "metadata": {
    "vscode": {
     "languageId": "python"
    }
   },
   "outputs": [],
   "source": [
    "# Fill only object (string) columns with \"\"\n",
    "for col in [\"video_type\", \"music_type\", \"tag\"]:\n",
    "    if new_data[col].dtype == \"float64\":\n",
    "        new_data[col] = new_data[col].fillna(\"\").astype(str)\n",
    "    else:\n",
    "        new_data[col] = new_data[col].fillna(\"\").astype(str)\n",
    "\n",
    "# Combine selected features into a single text field\n",
    "new_data[\"tags\"] = (\n",
    "    new_data[\"video_type\"] + \" \" +\n",
    "    new_data[\"music_type\"] + \" \" +\n",
    "    new_data[\"tag\"]\n",
    ")\n"
   ]
  },
  {
   "cell_type": "code",
   "execution_count": null,
   "id": "2ac262f1",
   "metadata": {
    "vscode": {
     "languageId": "python"
    }
   },
   "outputs": [
    {
     "data": {
      "text/plain": [
       "(7583, 40)"
      ]
     },
     "execution_count": 19,
     "metadata": {},
     "output_type": "execute_result"
    }
   ],
   "source": [
    "cv = CountVectorizer(max_features=10000, stop_words='english')\n",
    "vector = cv.fit_transform(new_data[\"tags\"].values.astype(\"U\")).toarray()\n",
    "vector.shape\n"
   ]
  },
  {
   "cell_type": "code",
   "execution_count": null,
   "id": "5330d6f7",
   "metadata": {
    "vscode": {
     "languageId": "python"
    }
   },
   "outputs": [],
   "source": [
    "similarity = cosine_similarity(vector)\n"
   ]
  },
  {
   "cell_type": "code",
   "execution_count": null,
   "id": "307d9076",
   "metadata": {
    "vscode": {
     "languageId": "python"
    }
   },
   "outputs": [],
   "source": [
    "def recommend(video_id):\n",
    "    index = new_data[new_data[\"video_id\"] == video_id].index[0]\n",
    "    distances = list(enumerate(similarity[index]))\n",
    "    distances = sorted(distances, key=lambda x: x[1], reverse=True)\n",
    "    recommended = []\n",
    "\n",
    "    for i in distances[1:6]:  # Top 5 recommendations\n",
    "        recommended.append(new_data.iloc[i[0]][\"video_id\"])\n",
    "    \n",
    "    return recommended\n"
   ]
  },
  {
   "cell_type": "code",
   "execution_count": null,
   "id": "35b1fdeb",
   "metadata": {
    "vscode": {
     "languageId": "python"
    }
   },
   "outputs": [
    {
     "data": {
      "text/plain": [
       "[np.int64(2), np.int64(3), np.int64(4), np.int64(6), np.int64(10)]"
      ]
     },
     "execution_count": 28,
     "metadata": {},
     "output_type": "execute_result"
    }
   ],
   "source": [
    "recommend(1)  # Replace with an actual video_id from your data\n"
   ]
  },
  {
   "cell_type": "code",
   "execution_count": null,
   "id": "95be99ed",
   "metadata": {
    "vscode": {
     "languageId": "python"
    }
   },
   "outputs": [],
   "source": [
    "pickle.dump(new_data, open(\"movies_list.pkl\", \"wb\"))\n",
    "pickle.dump(similarity, open(\"similarity.pkl\", \"wb\"))\n"
   ]
  },
  {
   "cell_type": "code",
   "execution_count": null,
   "id": "1c251b37",
   "metadata": {
    "vscode": {
     "languageId": "python"
    }
   },
   "outputs": [],
   "source": [
    "loaded_movies = pickle.load(open(\"movies_list.pkl\", \"rb\"))\n",
    "loaded_similarity = pickle.load(open(\"similarity.pkl\", \"rb\"))\n"
   ]
  }
 ],
 "metadata": {
  "kernelspec": {
   "display_name": "Python 3 (ipykernel)",
   "language": "python",
   "name": "python3"
  },
  "language_info": {
   "codemirror_mode": {
    "name": "ipython",
    "version": 3
   },
   "file_extension": ".py",
   "mimetype": "text/x-python",
   "name": "python",
   "nbconvert_exporter": "python",
   "pygments_lexer": "ipython3",
   "version": "3.13.3"
  }
 },
 "nbformat": 4,
 "nbformat_minor": 5
}
